{
 "cells": [
  {
   "cell_type": "code",
   "execution_count": 63,
   "id": "5e8983f6-fff8-47ff-b1ec-5cd94c2785a6",
   "metadata": {},
   "outputs": [],
   "source": [
    "import pandas as pd\n",
    "# here we use the DATE column in the data as the index\n",
    "weather = pd.read_csv(\"data/weather.csv\", index_col=\"DATE\")"
   ]
  },
  {
   "cell_type": "code",
   "execution_count": 64,
   "id": "2813d7f9-d12c-4165-a668-9f485467cbf4",
   "metadata": {},
   "outputs": [],
   "source": [
    "# FEATURE ENGINEERING\n",
    "# 1. Handling missing data - missing data or null values are bad for modelling\n",
    "\n",
    "# calculate null value percentage in each column\n",
    "null_values_per_col = weather.apply(pd.isnull).sum()\n",
    "total_datapoints = weather.shape[0]\n",
    "null_percent = null_values_per_col / total_datapoints"
   ]
  },
  {
   "cell_type": "code",
   "execution_count": null,
   "id": "b79034b8-0ffa-4b9c-8ab3-42166c7cf156",
   "metadata": {},
   "outputs": [],
   "source": [
    "null_percent"
   ]
  },
  {
   "cell_type": "code",
   "execution_count": 65,
   "id": "d4bbe741-071a-43c3-b30e-057c3f98dd41",
   "metadata": {},
   "outputs": [],
   "source": [
    "# only use columns where the null percent is less than 5%\n",
    "valid_columns = weather.columns[null_percent < 0.05]\n",
    "weather = weather[valid_columns].copy()"
   ]
  },
  {
   "cell_type": "code",
   "execution_count": 66,
   "id": "8e529a71-61a2-4833-87bb-47c9c244d370",
   "metadata": {},
   "outputs": [
    {
     "data": {
      "text/html": [
       "<div>\n",
       "<style scoped>\n",
       "    .dataframe tbody tr th:only-of-type {\n",
       "        vertical-align: middle;\n",
       "    }\n",
       "\n",
       "    .dataframe tbody tr th {\n",
       "        vertical-align: top;\n",
       "    }\n",
       "\n",
       "    .dataframe thead th {\n",
       "        text-align: right;\n",
       "    }\n",
       "</style>\n",
       "<table border=\"1\" class=\"dataframe\">\n",
       "  <thead>\n",
       "    <tr style=\"text-align: right;\">\n",
       "      <th></th>\n",
       "      <th>STATION</th>\n",
       "      <th>NAME</th>\n",
       "      <th>PRCP</th>\n",
       "      <th>SNOW</th>\n",
       "      <th>SNWD</th>\n",
       "      <th>TMAX</th>\n",
       "      <th>TMIN</th>\n",
       "    </tr>\n",
       "    <tr>\n",
       "      <th>DATE</th>\n",
       "      <th></th>\n",
       "      <th></th>\n",
       "      <th></th>\n",
       "      <th></th>\n",
       "      <th></th>\n",
       "      <th></th>\n",
       "      <th></th>\n",
       "    </tr>\n",
       "  </thead>\n",
       "  <tbody>\n",
       "    <tr>\n",
       "      <th>1970-01-01</th>\n",
       "      <td>USW00094789</td>\n",
       "      <td>JFK INTERNATIONAL AIRPORT, NY US</td>\n",
       "      <td>0.00</td>\n",
       "      <td>0.0</td>\n",
       "      <td>0.0</td>\n",
       "      <td>28</td>\n",
       "      <td>22</td>\n",
       "    </tr>\n",
       "    <tr>\n",
       "      <th>1970-01-02</th>\n",
       "      <td>USW00094789</td>\n",
       "      <td>JFK INTERNATIONAL AIRPORT, NY US</td>\n",
       "      <td>0.00</td>\n",
       "      <td>0.0</td>\n",
       "      <td>0.0</td>\n",
       "      <td>31</td>\n",
       "      <td>22</td>\n",
       "    </tr>\n",
       "    <tr>\n",
       "      <th>1970-01-03</th>\n",
       "      <td>USW00094789</td>\n",
       "      <td>JFK INTERNATIONAL AIRPORT, NY US</td>\n",
       "      <td>0.02</td>\n",
       "      <td>0.0</td>\n",
       "      <td>0.0</td>\n",
       "      <td>38</td>\n",
       "      <td>25</td>\n",
       "    </tr>\n",
       "    <tr>\n",
       "      <th>1970-01-04</th>\n",
       "      <td>USW00094789</td>\n",
       "      <td>JFK INTERNATIONAL AIRPORT, NY US</td>\n",
       "      <td>0.00</td>\n",
       "      <td>0.0</td>\n",
       "      <td>0.0</td>\n",
       "      <td>31</td>\n",
       "      <td>23</td>\n",
       "    </tr>\n",
       "    <tr>\n",
       "      <th>1970-01-05</th>\n",
       "      <td>USW00094789</td>\n",
       "      <td>JFK INTERNATIONAL AIRPORT, NY US</td>\n",
       "      <td>0.00</td>\n",
       "      <td>0.0</td>\n",
       "      <td>0.0</td>\n",
       "      <td>35</td>\n",
       "      <td>21</td>\n",
       "    </tr>\n",
       "    <tr>\n",
       "      <th>...</th>\n",
       "      <td>...</td>\n",
       "      <td>...</td>\n",
       "      <td>...</td>\n",
       "      <td>...</td>\n",
       "      <td>...</td>\n",
       "      <td>...</td>\n",
       "      <td>...</td>\n",
       "    </tr>\n",
       "    <tr>\n",
       "      <th>2022-10-17</th>\n",
       "      <td>USW00094789</td>\n",
       "      <td>JFK INTERNATIONAL AIRPORT, NY US</td>\n",
       "      <td>0.08</td>\n",
       "      <td>0.0</td>\n",
       "      <td>0.0</td>\n",
       "      <td>67</td>\n",
       "      <td>54</td>\n",
       "    </tr>\n",
       "    <tr>\n",
       "      <th>2022-10-18</th>\n",
       "      <td>USW00094789</td>\n",
       "      <td>JFK INTERNATIONAL AIRPORT, NY US</td>\n",
       "      <td>0.00</td>\n",
       "      <td>0.0</td>\n",
       "      <td>0.0</td>\n",
       "      <td>58</td>\n",
       "      <td>48</td>\n",
       "    </tr>\n",
       "    <tr>\n",
       "      <th>2022-10-19</th>\n",
       "      <td>USW00094789</td>\n",
       "      <td>JFK INTERNATIONAL AIRPORT, NY US</td>\n",
       "      <td>0.00</td>\n",
       "      <td>0.0</td>\n",
       "      <td>0.0</td>\n",
       "      <td>56</td>\n",
       "      <td>43</td>\n",
       "    </tr>\n",
       "    <tr>\n",
       "      <th>2022-10-20</th>\n",
       "      <td>USW00094789</td>\n",
       "      <td>JFK INTERNATIONAL AIRPORT, NY US</td>\n",
       "      <td>0.00</td>\n",
       "      <td>0.0</td>\n",
       "      <td>0.0</td>\n",
       "      <td>61</td>\n",
       "      <td>44</td>\n",
       "    </tr>\n",
       "    <tr>\n",
       "      <th>2022-10-21</th>\n",
       "      <td>USW00094789</td>\n",
       "      <td>JFK INTERNATIONAL AIRPORT, NY US</td>\n",
       "      <td>0.00</td>\n",
       "      <td>0.0</td>\n",
       "      <td>0.0</td>\n",
       "      <td>64</td>\n",
       "      <td>43</td>\n",
       "    </tr>\n",
       "  </tbody>\n",
       "</table>\n",
       "<p>19287 rows × 7 columns</p>\n",
       "</div>"
      ],
      "text/plain": [
       "                STATION                              NAME  PRCP  SNOW  SNWD  \\\n",
       "DATE                                                                          \n",
       "1970-01-01  USW00094789  JFK INTERNATIONAL AIRPORT, NY US  0.00   0.0   0.0   \n",
       "1970-01-02  USW00094789  JFK INTERNATIONAL AIRPORT, NY US  0.00   0.0   0.0   \n",
       "1970-01-03  USW00094789  JFK INTERNATIONAL AIRPORT, NY US  0.02   0.0   0.0   \n",
       "1970-01-04  USW00094789  JFK INTERNATIONAL AIRPORT, NY US  0.00   0.0   0.0   \n",
       "1970-01-05  USW00094789  JFK INTERNATIONAL AIRPORT, NY US  0.00   0.0   0.0   \n",
       "...                 ...                               ...   ...   ...   ...   \n",
       "2022-10-17  USW00094789  JFK INTERNATIONAL AIRPORT, NY US  0.08   0.0   0.0   \n",
       "2022-10-18  USW00094789  JFK INTERNATIONAL AIRPORT, NY US  0.00   0.0   0.0   \n",
       "2022-10-19  USW00094789  JFK INTERNATIONAL AIRPORT, NY US  0.00   0.0   0.0   \n",
       "2022-10-20  USW00094789  JFK INTERNATIONAL AIRPORT, NY US  0.00   0.0   0.0   \n",
       "2022-10-21  USW00094789  JFK INTERNATIONAL AIRPORT, NY US  0.00   0.0   0.0   \n",
       "\n",
       "            TMAX  TMIN  \n",
       "DATE                    \n",
       "1970-01-01    28    22  \n",
       "1970-01-02    31    22  \n",
       "1970-01-03    38    25  \n",
       "1970-01-04    31    23  \n",
       "1970-01-05    35    21  \n",
       "...          ...   ...  \n",
       "2022-10-17    67    54  \n",
       "2022-10-18    58    48  \n",
       "2022-10-19    56    43  \n",
       "2022-10-20    61    44  \n",
       "2022-10-21    64    43  \n",
       "\n",
       "[19287 rows x 7 columns]"
      ]
     },
     "execution_count": 66,
     "metadata": {},
     "output_type": "execute_result"
    }
   ],
   "source": [
    "weather\n",
    "\n",
    "# STATION = Id of the station where the data was collected\n",
    "# NAME = Station name and city location\n",
    "# PRCP = Precipitation\n",
    "# SNOW = Snow\n",
    "# SNWD = Snow depth\n",
    "# TMAX = Maximum temperature\n",
    "# TMIN = Minimum temeperature"
   ]
  },
  {
   "cell_type": "code",
   "execution_count": 67,
   "id": "682120c6-4524-4a13-9c7d-d42320bf95b1",
   "metadata": {},
   "outputs": [],
   "source": [
    "# Now the only column which contain null values is the SNWD column\n",
    "# To deal with this, fill the null values with the last valid value\n",
    "# Its called forward filling and we can use pandas' DataFrame.ffill() method for that\n",
    "weather = weather.ffill()"
   ]
  },
  {
   "cell_type": "code",
   "execution_count": 68,
   "id": "3640f700-adb0-4074-aeeb-f2f70c87c831",
   "metadata": {},
   "outputs": [
    {
     "data": {
      "text/plain": [
       "STATION    0\n",
       "NAME       0\n",
       "PRCP       0\n",
       "SNOW       0\n",
       "SNWD       0\n",
       "TMAX       0\n",
       "TMIN       0\n",
       "dtype: int64"
      ]
     },
     "execution_count": 68,
     "metadata": {},
     "output_type": "execute_result"
    }
   ],
   "source": [
    "weather.apply(pd.isnull).sum()"
   ]
  },
  {
   "cell_type": "code",
   "execution_count": 69,
   "id": "8fe9df0e-062c-4b3a-994c-028dcd7b6480",
   "metadata": {},
   "outputs": [
    {
     "data": {
      "text/plain": [
       "STATION     object\n",
       "NAME        object\n",
       "PRCP       float64\n",
       "SNOW       float64\n",
       "SNWD       float64\n",
       "TMAX         int64\n",
       "TMIN         int64\n",
       "dtype: object"
      ]
     },
     "execution_count": 69,
     "metadata": {},
     "output_type": "execute_result"
    }
   ],
   "source": [
    "# 2. Assign right datatypes to columns and index\n",
    "weather.dtypes\n",
    "# here all the columns have the right datatype"
   ]
  },
  {
   "cell_type": "code",
   "execution_count": 70,
   "id": "0999a42e-6126-4079-add1-c9a3226585c1",
   "metadata": {},
   "outputs": [
    {
     "data": {
      "text/plain": [
       "Index(['1970-01-01', '1970-01-02', '1970-01-03', '1970-01-04', '1970-01-05',\n",
       "       '1970-01-06', '1970-01-07', '1970-01-08', '1970-01-09', '1970-01-10',\n",
       "       ...\n",
       "       '2022-10-12', '2022-10-13', '2022-10-14', '2022-10-15', '2022-10-16',\n",
       "       '2022-10-17', '2022-10-18', '2022-10-19', '2022-10-20', '2022-10-21'],\n",
       "      dtype='object', name='DATE', length=19287)"
      ]
     },
     "execution_count": 70,
     "metadata": {},
     "output_type": "execute_result"
    }
   ],
   "source": [
    "weather.index"
   ]
  },
  {
   "cell_type": "code",
   "execution_count": 71,
   "id": "f54f410a-3e8e-43df-9c87-ddea9f49a470",
   "metadata": {},
   "outputs": [],
   "source": [
    "# convert the index datatype to datetime instead of object for ease of processing\n",
    "weather.index = pd.to_datetime(weather.index)"
   ]
  },
  {
   "cell_type": "code",
   "execution_count": 72,
   "id": "f849796d-dda2-48d5-a3ef-e0dfbd330b82",
   "metadata": {},
   "outputs": [
    {
     "data": {
      "text/plain": [
       "DatetimeIndex(['1970-01-01', '1970-01-02', '1970-01-03', '1970-01-04',\n",
       "               '1970-01-05', '1970-01-06', '1970-01-07', '1970-01-08',\n",
       "               '1970-01-09', '1970-01-10',\n",
       "               ...\n",
       "               '2022-10-12', '2022-10-13', '2022-10-14', '2022-10-15',\n",
       "               '2022-10-16', '2022-10-17', '2022-10-18', '2022-10-19',\n",
       "               '2022-10-20', '2022-10-21'],\n",
       "              dtype='datetime64[ns]', name='DATE', length=19287, freq=None)"
      ]
     },
     "execution_count": 72,
     "metadata": {},
     "output_type": "execute_result"
    }
   ],
   "source": [
    "weather.index"
   ]
  },
  {
   "cell_type": "code",
   "execution_count": 74,
   "id": "53150f0b-e1cd-4021-9fc5-51fc79790052",
   "metadata": {},
   "outputs": [
    {
     "data": {
      "text/plain": [
       "Index([1970, 1970, 1970, 1970, 1970, 1970, 1970, 1970, 1970, 1970,\n",
       "       ...\n",
       "       2022, 2022, 2022, 2022, 2022, 2022, 2022, 2022, 2022, 2022],\n",
       "      dtype='int32', name='DATE', length=19287)"
      ]
     },
     "execution_count": 74,
     "metadata": {},
     "output_type": "execute_result"
    }
   ],
   "source": [
    "# 3. Check if there are any gaps in the data\n",
    "weather.index.year.value_counts().sort_index()"
   ]
  },
  {
   "cell_type": "code",
   "execution_count": 73,
   "id": "44ee84d1-89f3-4d2d-a956-d64bdce4df26",
   "metadata": {},
   "outputs": [
    {
     "data": {
      "text/plain": [
       "7"
      ]
     },
     "execution_count": 73,
     "metadata": {},
     "output_type": "execute_result"
    }
   ],
   "source": [
    "weather.columns.shape[0]"
   ]
  }
 ],
 "metadata": {
  "kernelspec": {
   "display_name": "Python 3 (ipykernel)",
   "language": "python",
   "name": "python3"
  },
  "language_info": {
   "codemirror_mode": {
    "name": "ipython",
    "version": 3
   },
   "file_extension": ".py",
   "mimetype": "text/x-python",
   "name": "python",
   "nbconvert_exporter": "python",
   "pygments_lexer": "ipython3",
   "version": "3.11.4"
  }
 },
 "nbformat": 4,
 "nbformat_minor": 5
}
